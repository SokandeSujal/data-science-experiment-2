{
  "nbformat": 4,
  "nbformat_minor": 0,
  "metadata": {
    "colab": {
      "provenance": []
    },
    "kernelspec": {
      "name": "python3",
      "display_name": "Python 3"
    },
    "language_info": {
      "name": "python"
    }
  },
  "cells": [
    {
      "cell_type": "code",
      "execution_count": 1,
      "metadata": {
        "id": "OGqDBX10Kh7T"
      },
      "outputs": [],
      "source": [
        "import pandas as pd\n",
        "import numpy as np"
      ]
    },
    {
      "cell_type": "code",
      "source": [
        "# Load the dataset\n",
        "url = 'https://archive.ics.uci.edu/ml/machine-learning-databases/adult/adult.data'\n",
        "columns = ['age', 'workclass', 'fnlwgt', 'education', 'education_num', 'marital_status',\n",
        "           'occupation', 'relationship', 'race', 'sex', 'capital_gain', 'capital_loss',\n",
        "           'hours_per_week', 'native_country', 'income']"
      ],
      "metadata": {
        "id": "3H14lejlKqxY"
      },
      "execution_count": 2,
      "outputs": []
    },
    {
      "cell_type": "code",
      "source": [
        "# Load the data into a pandas dataframe\n",
        "data = pd.read_csv(url, header=None, names=columns, na_values=' ?', skipinitialspace=True)\n",
        "print(\"Dataset Loaded:\")\n",
        "print(data.head())"
      ],
      "metadata": {
        "colab": {
          "base_uri": "https://localhost:8080/"
        },
        "id": "R4iRv9XSKtIf",
        "outputId": "eb52ce70-264a-4c1d-9ffd-f93e4241588e"
      },
      "execution_count": 3,
      "outputs": [
        {
          "output_type": "stream",
          "name": "stdout",
          "text": [
            "Dataset Loaded:\n",
            "   age         workclass  fnlwgt  education  education_num  \\\n",
            "0   39         State-gov   77516  Bachelors             13   \n",
            "1   50  Self-emp-not-inc   83311  Bachelors             13   \n",
            "2   38           Private  215646    HS-grad              9   \n",
            "3   53           Private  234721       11th              7   \n",
            "4   28           Private  338409  Bachelors             13   \n",
            "\n",
            "       marital_status         occupation   relationship   race     sex  \\\n",
            "0       Never-married       Adm-clerical  Not-in-family  White    Male   \n",
            "1  Married-civ-spouse    Exec-managerial        Husband  White    Male   \n",
            "2            Divorced  Handlers-cleaners  Not-in-family  White    Male   \n",
            "3  Married-civ-spouse  Handlers-cleaners        Husband  Black    Male   \n",
            "4  Married-civ-spouse     Prof-specialty           Wife  Black  Female   \n",
            "\n",
            "   capital_gain  capital_loss  hours_per_week native_country income  \n",
            "0          2174             0              40  United-States  <=50K  \n",
            "1             0             0              13  United-States  <=50K  \n",
            "2             0             0              40  United-States  <=50K  \n",
            "3             0             0              40  United-States  <=50K  \n",
            "4             0             0              40           Cuba  <=50K  \n"
          ]
        }
      ]
    },
    {
      "cell_type": "code",
      "source": [
        "# Checking for missing values\n",
        "print(\"Checking for missing values:\")\n",
        "print(data.isnull().sum())"
      ],
      "metadata": {
        "colab": {
          "base_uri": "https://localhost:8080/"
        },
        "id": "QBZ-zMBYKxhv",
        "outputId": "0cb862fb-52d9-4178-f866-24224ef09615"
      },
      "execution_count": 4,
      "outputs": [
        {
          "output_type": "stream",
          "name": "stdout",
          "text": [
            "Checking for missing values:\n",
            "age               0\n",
            "workclass         0\n",
            "fnlwgt            0\n",
            "education         0\n",
            "education_num     0\n",
            "marital_status    0\n",
            "occupation        0\n",
            "relationship      0\n",
            "race              0\n",
            "sex               0\n",
            "capital_gain      0\n",
            "capital_loss      0\n",
            "hours_per_week    0\n",
            "native_country    0\n",
            "income            0\n",
            "dtype: int64\n"
          ]
        }
      ]
    },
    {
      "cell_type": "code",
      "source": [
        "# Dropping rows with missing values\n",
        "data_cleaned = data.dropna()\n",
        "print(\"Missing values after dropping rows:\")\n",
        "print(data_cleaned.isnull().sum())"
      ],
      "metadata": {
        "colab": {
          "base_uri": "https://localhost:8080/"
        },
        "id": "ql99y6A0KzSP",
        "outputId": "5bac0bea-04fa-4abb-8318-062c0c6ee0be"
      },
      "execution_count": 5,
      "outputs": [
        {
          "output_type": "stream",
          "name": "stdout",
          "text": [
            "Missing values after dropping rows:\n",
            "age               0\n",
            "workclass         0\n",
            "fnlwgt            0\n",
            "education         0\n",
            "education_num     0\n",
            "marital_status    0\n",
            "occupation        0\n",
            "relationship      0\n",
            "race              0\n",
            "sex               0\n",
            "capital_gain      0\n",
            "capital_loss      0\n",
            "hours_per_week    0\n",
            "native_country    0\n",
            "income            0\n",
            "dtype: int64\n"
          ]
        }
      ]
    },
    {
      "cell_type": "code",
      "source": [
        "# Converting categorical variables into dummy/indicator variables\n",
        "data_cleaned = pd.get_dummies(data_cleaned)\n",
        "print(\"Dataset after converting categorical variables:\")\n",
        "print(data_cleaned.head())"
      ],
      "metadata": {
        "colab": {
          "base_uri": "https://localhost:8080/"
        },
        "id": "Ihp8xOy9K2DY",
        "outputId": "e9bb457b-e44c-4955-dff3-d9c206e20ba1"
      },
      "execution_count": 6,
      "outputs": [
        {
          "output_type": "stream",
          "name": "stdout",
          "text": [
            "Dataset after converting categorical variables:\n",
            "   age  fnlwgt  education_num  capital_gain  capital_loss  hours_per_week  \\\n",
            "0   39   77516             13          2174             0              40   \n",
            "1   50   83311             13             0             0              13   \n",
            "2   38  215646              9             0             0              40   \n",
            "3   53  234721              7             0             0              40   \n",
            "4   28  338409             13             0             0              40   \n",
            "\n",
            "   workclass_?  workclass_Federal-gov  workclass_Local-gov  \\\n",
            "0        False                  False                False   \n",
            "1        False                  False                False   \n",
            "2        False                  False                False   \n",
            "3        False                  False                False   \n",
            "4        False                  False                False   \n",
            "\n",
            "   workclass_Never-worked  ...  native_country_Scotland  native_country_South  \\\n",
            "0                   False  ...                    False                 False   \n",
            "1                   False  ...                    False                 False   \n",
            "2                   False  ...                    False                 False   \n",
            "3                   False  ...                    False                 False   \n",
            "4                   False  ...                    False                 False   \n",
            "\n",
            "   native_country_Taiwan  native_country_Thailand  \\\n",
            "0                  False                    False   \n",
            "1                  False                    False   \n",
            "2                  False                    False   \n",
            "3                  False                    False   \n",
            "4                  False                    False   \n",
            "\n",
            "   native_country_Trinadad&Tobago  native_country_United-States  \\\n",
            "0                           False                          True   \n",
            "1                           False                          True   \n",
            "2                           False                          True   \n",
            "3                           False                          True   \n",
            "4                           False                         False   \n",
            "\n",
            "   native_country_Vietnam  native_country_Yugoslavia  income_<=50K  \\\n",
            "0                   False                      False          True   \n",
            "1                   False                      False          True   \n",
            "2                   False                      False          True   \n",
            "3                   False                      False          True   \n",
            "4                   False                      False          True   \n",
            "\n",
            "   income_>50K  \n",
            "0        False  \n",
            "1        False  \n",
            "2        False  \n",
            "3        False  \n",
            "4        False  \n",
            "\n",
            "[5 rows x 110 columns]\n"
          ]
        }
      ]
    },
    {
      "cell_type": "code",
      "source": [
        "# Normalizing numerical features\n",
        "from sklearn.preprocessing import StandardScaler\n",
        "scaler = StandardScaler()\n",
        "numerical_features = ['age', 'fnlwgt', 'education_num', 'capital_gain', 'capital_loss', 'hours_per_week']\n",
        "data_cleaned[numerical_features] = scaler.fit_transform(data_cleaned[numerical_features])\n",
        "print(\"Dataset after normalizing numerical features:\")\n",
        "print(data_cleaned.head())"
      ],
      "metadata": {
        "colab": {
          "base_uri": "https://localhost:8080/"
        },
        "id": "KNrMKYCnK5k5",
        "outputId": "bc7414ba-3b7e-48ab-ed14-e51ac2b94705"
      },
      "execution_count": 7,
      "outputs": [
        {
          "output_type": "stream",
          "name": "stdout",
          "text": [
            "Dataset after normalizing numerical features:\n",
            "        age    fnlwgt  education_num  capital_gain  capital_loss  \\\n",
            "0  0.030671 -1.063611       1.134739      0.148453      -0.21666   \n",
            "1  0.837109 -1.008707       1.134739     -0.145920      -0.21666   \n",
            "2 -0.042642  0.245079      -0.420060     -0.145920      -0.21666   \n",
            "3  1.057047  0.425801      -1.197459     -0.145920      -0.21666   \n",
            "4 -0.775768  1.408176       1.134739     -0.145920      -0.21666   \n",
            "\n",
            "   hours_per_week  workclass_?  workclass_Federal-gov  workclass_Local-gov  \\\n",
            "0       -0.035429        False                  False                False   \n",
            "1       -2.222153        False                  False                False   \n",
            "2       -0.035429        False                  False                False   \n",
            "3       -0.035429        False                  False                False   \n",
            "4       -0.035429        False                  False                False   \n",
            "\n",
            "   workclass_Never-worked  ...  native_country_Scotland  native_country_South  \\\n",
            "0                   False  ...                    False                 False   \n",
            "1                   False  ...                    False                 False   \n",
            "2                   False  ...                    False                 False   \n",
            "3                   False  ...                    False                 False   \n",
            "4                   False  ...                    False                 False   \n",
            "\n",
            "   native_country_Taiwan  native_country_Thailand  \\\n",
            "0                  False                    False   \n",
            "1                  False                    False   \n",
            "2                  False                    False   \n",
            "3                  False                    False   \n",
            "4                  False                    False   \n",
            "\n",
            "   native_country_Trinadad&Tobago  native_country_United-States  \\\n",
            "0                           False                          True   \n",
            "1                           False                          True   \n",
            "2                           False                          True   \n",
            "3                           False                          True   \n",
            "4                           False                         False   \n",
            "\n",
            "   native_country_Vietnam  native_country_Yugoslavia  income_<=50K  \\\n",
            "0                   False                      False          True   \n",
            "1                   False                      False          True   \n",
            "2                   False                      False          True   \n",
            "3                   False                      False          True   \n",
            "4                   False                      False          True   \n",
            "\n",
            "   income_>50K  \n",
            "0        False  \n",
            "1        False  \n",
            "2        False  \n",
            "3        False  \n",
            "4        False  \n",
            "\n",
            "[5 rows x 110 columns]\n"
          ]
        }
      ]
    },
    {
      "cell_type": "code",
      "source": [
        "# Save and export the cleaned dataset\n",
        "data_cleaned.to_csv('cleaned_adult_data.csv', index=False)\n",
        "print(\"Cleaned dataset saved as 'cleaned_adult_data.csv'\")"
      ],
      "metadata": {
        "colab": {
          "base_uri": "https://localhost:8080/"
        },
        "id": "hM7CFLy0K7k_",
        "outputId": "4f4b60cf-cf5d-416f-b9cb-383be7a00815"
      },
      "execution_count": 8,
      "outputs": [
        {
          "output_type": "stream",
          "name": "stdout",
          "text": [
            "Cleaned dataset saved as 'cleaned_adult_data.csv'\n"
          ]
        }
      ]
    }
  ]
}